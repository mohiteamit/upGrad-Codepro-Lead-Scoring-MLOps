{
 "cells": [
  {
   "cell_type": "markdown",
   "metadata": {
    "tags": []
   },
   "source": [
    "### 1 : Importing Libraries"
   ]
  },
  {
   "cell_type": "code",
   "execution_count": 16,
   "metadata": {
    "id": "AWb_Pph5GRXm"
   },
   "outputs": [],
   "source": [
    "# ignore the warnings in the output\n",
    "import warnings\n",
    "warnings.filterwarnings(\"ignore\")"
   ]
  },
  {
   "cell_type": "code",
   "execution_count": 17,
   "metadata": {},
   "outputs": [],
   "source": [
    "# import libraries and packages\n",
    "import numpy as np\n",
    "import pandas as pd \n",
    "import matplotlib.pyplot as plt\n",
    "import mlflow\n",
    "from pycaret.classification import *"
   ]
  },
  {
   "cell_type": "markdown",
   "metadata": {
    "tags": []
   },
   "source": [
    " ### 2 Reading Data"
   ]
  },
  {
   "cell_type": "code",
   "execution_count": 18,
   "metadata": {},
   "outputs": [
    {
     "name": "stdout",
     "output_type": "stream",
     "text": [
      "CPU times: user 8 μs, sys: 0 ns, total: 8 μs\n",
      "Wall time: 20.7 μs\n"
     ]
    }
   ],
   "source": [
    "##Copy the cleaned data obtained from the data_cleaning notebook into the Data folder before proceeding\n",
    "%time\n",
    "data = pd.read_csv('data/cleaned_data.csv')"
   ]
  },
  {
   "cell_type": "code",
   "execution_count": 19,
   "metadata": {},
   "outputs": [
    {
     "data": {
      "text/html": [
       "<div>\n",
       "<style scoped>\n",
       "    .dataframe tbody tr th:only-of-type {\n",
       "        vertical-align: middle;\n",
       "    }\n",
       "\n",
       "    .dataframe tbody tr th {\n",
       "        vertical-align: top;\n",
       "    }\n",
       "\n",
       "    .dataframe thead th {\n",
       "        text-align: right;\n",
       "    }\n",
       "</style>\n",
       "<table border=\"1\" class=\"dataframe\">\n",
       "  <thead>\n",
       "    <tr style=\"text-align: right;\">\n",
       "      <th></th>\n",
       "      <th>created_date</th>\n",
       "      <th>city_tier</th>\n",
       "      <th>first_platform_c</th>\n",
       "      <th>first_utm_medium_c</th>\n",
       "      <th>first_utm_source_c</th>\n",
       "      <th>total_leads_droppped</th>\n",
       "      <th>referred_lead</th>\n",
       "      <th>app_complete_flag</th>\n",
       "      <th>assistance_interaction</th>\n",
       "      <th>career_interaction</th>\n",
       "      <th>payment_interaction</th>\n",
       "      <th>social_interaction</th>\n",
       "      <th>syllabus_interaction</th>\n",
       "    </tr>\n",
       "  </thead>\n",
       "  <tbody>\n",
       "    <tr>\n",
       "      <th>0</th>\n",
       "      <td>2021-07-01 00:08:15</td>\n",
       "      <td>1.0</td>\n",
       "      <td>Level0</td>\n",
       "      <td>Level11</td>\n",
       "      <td>Level2</td>\n",
       "      <td>1.0</td>\n",
       "      <td>0.0</td>\n",
       "      <td>1</td>\n",
       "      <td>0.0</td>\n",
       "      <td>0.0</td>\n",
       "      <td>0.0</td>\n",
       "      <td>0.0</td>\n",
       "      <td>0.0</td>\n",
       "    </tr>\n",
       "    <tr>\n",
       "      <th>1</th>\n",
       "      <td>2021-07-01 00:16:43</td>\n",
       "      <td>2.0</td>\n",
       "      <td>Level3</td>\n",
       "      <td>Level0</td>\n",
       "      <td>others</td>\n",
       "      <td>1.0</td>\n",
       "      <td>0.0</td>\n",
       "      <td>1</td>\n",
       "      <td>0.0</td>\n",
       "      <td>0.0</td>\n",
       "      <td>0.0</td>\n",
       "      <td>0.0</td>\n",
       "      <td>0.0</td>\n",
       "    </tr>\n",
       "    <tr>\n",
       "      <th>2</th>\n",
       "      <td>2021-07-01 00:22:20</td>\n",
       "      <td>1.0</td>\n",
       "      <td>Level3</td>\n",
       "      <td>Level0</td>\n",
       "      <td>Level0</td>\n",
       "      <td>1.0</td>\n",
       "      <td>0.0</td>\n",
       "      <td>1</td>\n",
       "      <td>0.0</td>\n",
       "      <td>0.0</td>\n",
       "      <td>0.0</td>\n",
       "      <td>0.0</td>\n",
       "      <td>0.0</td>\n",
       "    </tr>\n",
       "    <tr>\n",
       "      <th>3</th>\n",
       "      <td>2021-07-01 00:23:13</td>\n",
       "      <td>1.0</td>\n",
       "      <td>Level1</td>\n",
       "      <td>Level3</td>\n",
       "      <td>others</td>\n",
       "      <td>2.0</td>\n",
       "      <td>0.0</td>\n",
       "      <td>0</td>\n",
       "      <td>0.0</td>\n",
       "      <td>0.0</td>\n",
       "      <td>0.0</td>\n",
       "      <td>0.0</td>\n",
       "      <td>0.0</td>\n",
       "    </tr>\n",
       "    <tr>\n",
       "      <th>4</th>\n",
       "      <td>2021-07-01 00:28:38</td>\n",
       "      <td>1.0</td>\n",
       "      <td>Level3</td>\n",
       "      <td>Level0</td>\n",
       "      <td>Level0</td>\n",
       "      <td>1.0</td>\n",
       "      <td>0.0</td>\n",
       "      <td>0</td>\n",
       "      <td>0.0</td>\n",
       "      <td>0.0</td>\n",
       "      <td>0.0</td>\n",
       "      <td>0.0</td>\n",
       "      <td>0.0</td>\n",
       "    </tr>\n",
       "  </tbody>\n",
       "</table>\n",
       "</div>"
      ],
      "text/plain": [
       "          created_date  city_tier first_platform_c first_utm_medium_c  \\\n",
       "0  2021-07-01 00:08:15        1.0           Level0            Level11   \n",
       "1  2021-07-01 00:16:43        2.0           Level3             Level0   \n",
       "2  2021-07-01 00:22:20        1.0           Level3             Level0   \n",
       "3  2021-07-01 00:23:13        1.0           Level1             Level3   \n",
       "4  2021-07-01 00:28:38        1.0           Level3             Level0   \n",
       "\n",
       "  first_utm_source_c  total_leads_droppped  referred_lead  app_complete_flag  \\\n",
       "0             Level2                   1.0            0.0                  1   \n",
       "1             others                   1.0            0.0                  1   \n",
       "2             Level0                   1.0            0.0                  1   \n",
       "3             others                   2.0            0.0                  0   \n",
       "4             Level0                   1.0            0.0                  0   \n",
       "\n",
       "   assistance_interaction  career_interaction  payment_interaction  \\\n",
       "0                     0.0                 0.0                  0.0   \n",
       "1                     0.0                 0.0                  0.0   \n",
       "2                     0.0                 0.0                  0.0   \n",
       "3                     0.0                 0.0                  0.0   \n",
       "4                     0.0                 0.0                  0.0   \n",
       "\n",
       "   social_interaction  syllabus_interaction  \n",
       "0                 0.0                   0.0  \n",
       "1                 0.0                   0.0  \n",
       "2                 0.0                   0.0  \n",
       "3                 0.0                   0.0  \n",
       "4                 0.0                   0.0  "
      ]
     },
     "execution_count": 19,
     "metadata": {},
     "output_type": "execute_result"
    }
   ],
   "source": [
    "data.head()"
   ]
  },
  {
   "cell_type": "code",
   "execution_count": 20,
   "metadata": {},
   "outputs": [],
   "source": [
    "# drop the data column as it is not needed for training\n",
    "data = data.drop(['created_date'], axis=1)"
   ]
  },
  {
   "cell_type": "code",
   "execution_count": 21,
   "metadata": {},
   "outputs": [
    {
     "name": "stdout",
     "output_type": "stream",
     "text": [
      "<class 'pandas.core.frame.DataFrame'>\n",
      "RangeIndex: 238964 entries, 0 to 238963\n",
      "Data columns (total 12 columns):\n",
      " #   Column                  Non-Null Count   Dtype  \n",
      "---  ------                  --------------   -----  \n",
      " 0   city_tier               238964 non-null  float64\n",
      " 1   first_platform_c        238964 non-null  object \n",
      " 2   first_utm_medium_c      238964 non-null  object \n",
      " 3   first_utm_source_c      238964 non-null  object \n",
      " 4   total_leads_droppped    238964 non-null  float64\n",
      " 5   referred_lead           238964 non-null  float64\n",
      " 6   app_complete_flag       238964 non-null  int64  \n",
      " 7   assistance_interaction  238964 non-null  float64\n",
      " 8   career_interaction      238964 non-null  float64\n",
      " 9   payment_interaction     238964 non-null  float64\n",
      " 10  social_interaction      238964 non-null  float64\n",
      " 11  syllabus_interaction    238964 non-null  float64\n",
      "dtypes: float64(8), int64(1), object(3)\n",
      "memory usage: 21.9+ MB\n"
     ]
    }
   ],
   "source": [
    "data.info()"
   ]
  },
  {
   "cell_type": "markdown",
   "metadata": {
    "tags": []
   },
   "source": [
    "### 3 Setting up Environment: "
   ]
  },
  {
   "cell_type": "code",
   "execution_count": 22,
   "metadata": {},
   "outputs": [],
   "source": [
    "# create a connection and setup a SQLite database with the name \"lead_scoring_model_experimentation.db\" in \n",
    "# 'Assignment/02_training_pipeline/notebooks/' location"
   ]
  },
  {
   "cell_type": "code",
   "execution_count": 23,
   "metadata": {},
   "outputs": [],
   "source": [
    "# import os\n",
    "# import sqlite3\n",
    "\n",
    "# # Get current directory (where notebook is running)\n",
    "# db_dir = os.getcwd()  # this will be '02_training_pipeline/notebooks' if running from the notebook\n",
    "\n",
    "# # Define DB name and full path\n",
    "# db_name = 'lead_scoring_model_experimentation.db'\n",
    "# db_path = os.path.join(db_dir, db_name)\n",
    "\n",
    "# # Create a connection to the SQLite database\n",
    "# conn = sqlite3.connect(db_path)\n",
    "\n",
    "# # Print confirmation\n",
    "# print(f\"Database created at: {db_path}\")\n",
    "\n",
    "# # Close connection\n",
    "# conn.close()"
   ]
  },
  {
   "cell_type": "code",
   "execution_count": 24,
   "metadata": {},
   "outputs": [
    {
     "data": {
      "text/plain": [
       "'\\nNow you need to start the MLflow server in a new terminal. \\nNote: Before you start the MLflow server, create a folder named mlruns in the assignment directory.\\nNow you need to run the command to start MLflow server such that:\\n1. The lead_scoring_model_experimentation.db which you created above is used as the backend-store.\\n2. mlruns folder is used as an artifact directory. \\n3. The server runs on the port 6006.\\n\\nThe steps to do so are as follows:\\nOpen a new terminal.\\nThen go to the Assignment directory using the cd command. Type the command: cd Assignment/\\nCreate a folder named mlruns here. You can create this folder using either the command line or GUI. To create this folder via the command line run the command: mkdir ./mlruns\\nThen, type the following command to start the MLflow server: \\nmlflow server --backend-store-uri=\\'sqlite:///./02_training_pipeline/notebooks/lead_scoring_model_experimentation.db\\' --default-artifact-root=\"./mlruns\" --port=6006 --host=0.0.0.0\\n'"
      ]
     },
     "execution_count": 24,
     "metadata": {},
     "output_type": "execute_result"
    }
   ],
   "source": [
    "'''\n",
    "Now you need to start the MLflow server in a new terminal. \n",
    "Note: Before you start the MLflow server, create a folder named mlruns in the assignment directory.\n",
    "Now you need to run the command to start MLflow server such that:\n",
    "1. The lead_scoring_model_experimentation.db which you created above is used as the backend-store.\n",
    "2. mlruns folder is used as an artifact directory. \n",
    "3. The server runs on the port 6006.\n",
    "\n",
    "The steps to do so are as follows:\n",
    "Open a new terminal.\n",
    "Then go to the Assignment directory using the cd command. Type the command: cd Assignment/\n",
    "Create a folder named mlruns here. You can create this folder using either the command line or GUI. To create this folder via the command line run the command: mkdir ./mlruns\n",
    "Then, type the following command to start the MLflow server: \n",
    "mlflow server --backend-store-uri='sqlite:///./02_training_pipeline/notebooks/lead_scoring_model_experimentation.db' --default-artifact-root=\"./mlruns\" --port=6006 --host=0.0.0.0\n",
    "'''"
   ]
  },
  {
   "cell_type": "code",
   "execution_count": 25,
   "metadata": {},
   "outputs": [],
   "source": [
    "# Once, your server is successfully running, create a mlflow tracking uri at \"http://0.0.0.0:6006\""
   ]
  },
  {
   "cell_type": "markdown",
   "metadata": {},
   "source": [
    "My working mlflow command\n",
    "\n",
    "mlflow ui   --backend-store-uri=\"sqlite:///02_training_pipeline/notebooks/lead_scoring_model_experimentation.db\"   \\\n",
    "--default-artifact-root=\"file:///home/CodePro-Lead-Scoring2/02_training_pipeline/notebooks/mlruns\"   \\\n",
    "--port=5001"
   ]
  },
  {
   "cell_type": "markdown",
   "metadata": {},
   "source": [
    "mlflow ui --backend-store-uri=\"sqlite:///02_training_pipeline/notebooks/lead_scoring_model_experimentation.db\" \\\n",
    "--default-artifact-root=\"file:///home/CodePro-Lead-Scoring2/02_training_pipeline/notebooks/mlruns\" \\\n",
    "--port=5001 \\\n",
    "--host=0.0.0.0 \\\n",
    "--gunicorn-opts=\"--log-level=ERROR\" \\\n",
    "2>/dev/null"
   ]
  },
  {
   "cell_type": "markdown",
   "metadata": {},
   "source": [
    "mlflow ui --port=5001 --host=0.0.0.0"
   ]
  },
  {
   "cell_type": "markdown",
   "metadata": {},
   "source": [
    "My Mlflow url\n",
    "\n",
    "https://76a7d32852700.notebooks.jarvislabs.net/proxy/5001/#/experiments/0"
   ]
  },
  {
   "cell_type": "code",
   "execution_count": 26,
   "metadata": {
    "tags": []
   },
   "outputs": [],
   "source": [
    "# setup pycaret"
   ]
  },
  {
   "cell_type": "code",
   "execution_count": 27,
   "metadata": {},
   "outputs": [],
   "source": [
    "# # Check mlflow URI\n",
    "# import mlflow\n",
    "# print(\"Tracking URI:\", mlflow.get_tracking_uri())\n",
    "# print(\"Artifact URI:\", mlflow.get_artifact_uri())\n"
   ]
  },
  {
   "cell_type": "code",
   "execution_count": 28,
   "metadata": {},
   "outputs": [],
   "source": [
    "import mlflow\n",
    "mlflow.set_tracking_uri(\"http://127.0.0.1:5001\")"
   ]
  },
  {
   "cell_type": "code",
   "execution_count": 29,
   "metadata": {},
   "outputs": [
    {
     "data": {
      "text/html": [
       "<style type=\"text/css\">\n",
       "#T_4abba_row9_col1, #T_4abba_row15_col1, #T_4abba_row17_col1, #T_4abba_row19_col1 {\n",
       "  background-color: lightgreen;\n",
       "}\n",
       "</style>\n",
       "<table id=\"T_4abba\">\n",
       "  <thead>\n",
       "    <tr>\n",
       "      <th class=\"blank level0\" >&nbsp;</th>\n",
       "      <th id=\"T_4abba_level0_col0\" class=\"col_heading level0 col0\" >Description</th>\n",
       "      <th id=\"T_4abba_level0_col1\" class=\"col_heading level0 col1\" >Value</th>\n",
       "    </tr>\n",
       "  </thead>\n",
       "  <tbody>\n",
       "    <tr>\n",
       "      <th id=\"T_4abba_level0_row0\" class=\"row_heading level0 row0\" >0</th>\n",
       "      <td id=\"T_4abba_row0_col0\" class=\"data row0 col0\" >Session id</td>\n",
       "      <td id=\"T_4abba_row0_col1\" class=\"data row0 col1\" >42</td>\n",
       "    </tr>\n",
       "    <tr>\n",
       "      <th id=\"T_4abba_level0_row1\" class=\"row_heading level0 row1\" >1</th>\n",
       "      <td id=\"T_4abba_row1_col0\" class=\"data row1 col0\" >Target</td>\n",
       "      <td id=\"T_4abba_row1_col1\" class=\"data row1 col1\" >app_complete_flag</td>\n",
       "    </tr>\n",
       "    <tr>\n",
       "      <th id=\"T_4abba_level0_row2\" class=\"row_heading level0 row2\" >2</th>\n",
       "      <td id=\"T_4abba_row2_col0\" class=\"data row2 col0\" >Target type</td>\n",
       "      <td id=\"T_4abba_row2_col1\" class=\"data row2 col1\" >Binary</td>\n",
       "    </tr>\n",
       "    <tr>\n",
       "      <th id=\"T_4abba_level0_row3\" class=\"row_heading level0 row3\" >3</th>\n",
       "      <td id=\"T_4abba_row3_col0\" class=\"data row3 col0\" >Original data shape</td>\n",
       "      <td id=\"T_4abba_row3_col1\" class=\"data row3 col1\" >(238964, 12)</td>\n",
       "    </tr>\n",
       "    <tr>\n",
       "      <th id=\"T_4abba_level0_row4\" class=\"row_heading level0 row4\" >4</th>\n",
       "      <td id=\"T_4abba_row4_col0\" class=\"data row4 col0\" >Transformed data shape</td>\n",
       "      <td id=\"T_4abba_row4_col1\" class=\"data row4 col1\" >(238964, 44)</td>\n",
       "    </tr>\n",
       "    <tr>\n",
       "      <th id=\"T_4abba_level0_row5\" class=\"row_heading level0 row5\" >5</th>\n",
       "      <td id=\"T_4abba_row5_col0\" class=\"data row5 col0\" >Transformed train set shape</td>\n",
       "      <td id=\"T_4abba_row5_col1\" class=\"data row5 col1\" >(167274, 44)</td>\n",
       "    </tr>\n",
       "    <tr>\n",
       "      <th id=\"T_4abba_level0_row6\" class=\"row_heading level0 row6\" >6</th>\n",
       "      <td id=\"T_4abba_row6_col0\" class=\"data row6 col0\" >Transformed test set shape</td>\n",
       "      <td id=\"T_4abba_row6_col1\" class=\"data row6 col1\" >(71690, 44)</td>\n",
       "    </tr>\n",
       "    <tr>\n",
       "      <th id=\"T_4abba_level0_row7\" class=\"row_heading level0 row7\" >7</th>\n",
       "      <td id=\"T_4abba_row7_col0\" class=\"data row7 col0\" >Numeric features</td>\n",
       "      <td id=\"T_4abba_row7_col1\" class=\"data row7 col1\" >8</td>\n",
       "    </tr>\n",
       "    <tr>\n",
       "      <th id=\"T_4abba_level0_row8\" class=\"row_heading level0 row8\" >8</th>\n",
       "      <td id=\"T_4abba_row8_col0\" class=\"data row8 col0\" >Categorical features</td>\n",
       "      <td id=\"T_4abba_row8_col1\" class=\"data row8 col1\" >3</td>\n",
       "    </tr>\n",
       "    <tr>\n",
       "      <th id=\"T_4abba_level0_row9\" class=\"row_heading level0 row9\" >9</th>\n",
       "      <td id=\"T_4abba_row9_col0\" class=\"data row9 col0\" >Preprocess</td>\n",
       "      <td id=\"T_4abba_row9_col1\" class=\"data row9 col1\" >True</td>\n",
       "    </tr>\n",
       "    <tr>\n",
       "      <th id=\"T_4abba_level0_row10\" class=\"row_heading level0 row10\" >10</th>\n",
       "      <td id=\"T_4abba_row10_col0\" class=\"data row10 col0\" >Imputation type</td>\n",
       "      <td id=\"T_4abba_row10_col1\" class=\"data row10 col1\" >simple</td>\n",
       "    </tr>\n",
       "    <tr>\n",
       "      <th id=\"T_4abba_level0_row11\" class=\"row_heading level0 row11\" >11</th>\n",
       "      <td id=\"T_4abba_row11_col0\" class=\"data row11 col0\" >Numeric imputation</td>\n",
       "      <td id=\"T_4abba_row11_col1\" class=\"data row11 col1\" >mean</td>\n",
       "    </tr>\n",
       "    <tr>\n",
       "      <th id=\"T_4abba_level0_row12\" class=\"row_heading level0 row12\" >12</th>\n",
       "      <td id=\"T_4abba_row12_col0\" class=\"data row12 col0\" >Categorical imputation</td>\n",
       "      <td id=\"T_4abba_row12_col1\" class=\"data row12 col1\" >mode</td>\n",
       "    </tr>\n",
       "    <tr>\n",
       "      <th id=\"T_4abba_level0_row13\" class=\"row_heading level0 row13\" >13</th>\n",
       "      <td id=\"T_4abba_row13_col0\" class=\"data row13 col0\" >Maximum one-hot encoding</td>\n",
       "      <td id=\"T_4abba_row13_col1\" class=\"data row13 col1\" >25</td>\n",
       "    </tr>\n",
       "    <tr>\n",
       "      <th id=\"T_4abba_level0_row14\" class=\"row_heading level0 row14\" >14</th>\n",
       "      <td id=\"T_4abba_row14_col0\" class=\"data row14 col0\" >Encoding method</td>\n",
       "      <td id=\"T_4abba_row14_col1\" class=\"data row14 col1\" >None</td>\n",
       "    </tr>\n",
       "    <tr>\n",
       "      <th id=\"T_4abba_level0_row15\" class=\"row_heading level0 row15\" >15</th>\n",
       "      <td id=\"T_4abba_row15_col0\" class=\"data row15 col0\" >Remove multicollinearity</td>\n",
       "      <td id=\"T_4abba_row15_col1\" class=\"data row15 col1\" >True</td>\n",
       "    </tr>\n",
       "    <tr>\n",
       "      <th id=\"T_4abba_level0_row16\" class=\"row_heading level0 row16\" >16</th>\n",
       "      <td id=\"T_4abba_row16_col0\" class=\"data row16 col0\" >Multicollinearity threshold</td>\n",
       "      <td id=\"T_4abba_row16_col1\" class=\"data row16 col1\" >0.950000</td>\n",
       "    </tr>\n",
       "    <tr>\n",
       "      <th id=\"T_4abba_level0_row17\" class=\"row_heading level0 row17\" >17</th>\n",
       "      <td id=\"T_4abba_row17_col0\" class=\"data row17 col0\" >Transformation</td>\n",
       "      <td id=\"T_4abba_row17_col1\" class=\"data row17 col1\" >True</td>\n",
       "    </tr>\n",
       "    <tr>\n",
       "      <th id=\"T_4abba_level0_row18\" class=\"row_heading level0 row18\" >18</th>\n",
       "      <td id=\"T_4abba_row18_col0\" class=\"data row18 col0\" >Transformation method</td>\n",
       "      <td id=\"T_4abba_row18_col1\" class=\"data row18 col1\" >yeo-johnson</td>\n",
       "    </tr>\n",
       "    <tr>\n",
       "      <th id=\"T_4abba_level0_row19\" class=\"row_heading level0 row19\" >19</th>\n",
       "      <td id=\"T_4abba_row19_col0\" class=\"data row19 col0\" >Normalize</td>\n",
       "      <td id=\"T_4abba_row19_col1\" class=\"data row19 col1\" >True</td>\n",
       "    </tr>\n",
       "    <tr>\n",
       "      <th id=\"T_4abba_level0_row20\" class=\"row_heading level0 row20\" >20</th>\n",
       "      <td id=\"T_4abba_row20_col0\" class=\"data row20 col0\" >Normalize method</td>\n",
       "      <td id=\"T_4abba_row20_col1\" class=\"data row20 col1\" >zscore</td>\n",
       "    </tr>\n",
       "    <tr>\n",
       "      <th id=\"T_4abba_level0_row21\" class=\"row_heading level0 row21\" >21</th>\n",
       "      <td id=\"T_4abba_row21_col0\" class=\"data row21 col0\" >Fold Generator</td>\n",
       "      <td id=\"T_4abba_row21_col1\" class=\"data row21 col1\" >StratifiedKFold</td>\n",
       "    </tr>\n",
       "    <tr>\n",
       "      <th id=\"T_4abba_level0_row22\" class=\"row_heading level0 row22\" >22</th>\n",
       "      <td id=\"T_4abba_row22_col0\" class=\"data row22 col0\" >Fold Number</td>\n",
       "      <td id=\"T_4abba_row22_col1\" class=\"data row22 col1\" >10</td>\n",
       "    </tr>\n",
       "    <tr>\n",
       "      <th id=\"T_4abba_level0_row23\" class=\"row_heading level0 row23\" >23</th>\n",
       "      <td id=\"T_4abba_row23_col0\" class=\"data row23 col0\" >CPU Jobs</td>\n",
       "      <td id=\"T_4abba_row23_col1\" class=\"data row23 col1\" >-1</td>\n",
       "    </tr>\n",
       "    <tr>\n",
       "      <th id=\"T_4abba_level0_row24\" class=\"row_heading level0 row24\" >24</th>\n",
       "      <td id=\"T_4abba_row24_col0\" class=\"data row24 col0\" >Use GPU</td>\n",
       "      <td id=\"T_4abba_row24_col1\" class=\"data row24 col1\" >False</td>\n",
       "    </tr>\n",
       "    <tr>\n",
       "      <th id=\"T_4abba_level0_row25\" class=\"row_heading level0 row25\" >25</th>\n",
       "      <td id=\"T_4abba_row25_col0\" class=\"data row25 col0\" >Log Experiment</td>\n",
       "      <td id=\"T_4abba_row25_col1\" class=\"data row25 col1\" >MlflowLogger</td>\n",
       "    </tr>\n",
       "    <tr>\n",
       "      <th id=\"T_4abba_level0_row26\" class=\"row_heading level0 row26\" >26</th>\n",
       "      <td id=\"T_4abba_row26_col0\" class=\"data row26 col0\" >Experiment Name</td>\n",
       "      <td id=\"T_4abba_row26_col1\" class=\"data row26 col1\" >clf-default-name</td>\n",
       "    </tr>\n",
       "    <tr>\n",
       "      <th id=\"T_4abba_level0_row27\" class=\"row_heading level0 row27\" >27</th>\n",
       "      <td id=\"T_4abba_row27_col0\" class=\"data row27 col0\" >USI</td>\n",
       "      <td id=\"T_4abba_row27_col1\" class=\"data row27 col1\" >84e6</td>\n",
       "    </tr>\n",
       "  </tbody>\n",
       "</table>\n"
      ],
      "text/plain": [
       "<pandas.io.formats.style.Styler at 0x7f3a7ae233a0>"
      ]
     },
     "metadata": {},
     "output_type": "display_data"
    },
    {
     "name": "stderr",
     "output_type": "stream",
     "text": [
      "2025/03/30 23:49:29 INFO mlflow.tracking.fluent: Experiment with name 'clf-default-name' does not exist. Creating a new experiment.\n"
     ]
    },
    {
     "data": {
      "text/html": [
       "<div>\n",
       "<style scoped>\n",
       "    .dataframe tbody tr th:only-of-type {\n",
       "        vertical-align: middle;\n",
       "    }\n",
       "\n",
       "    .dataframe tbody tr th {\n",
       "        vertical-align: top;\n",
       "    }\n",
       "\n",
       "    .dataframe thead th {\n",
       "        text-align: right;\n",
       "    }\n",
       "</style>\n",
       "<table border=\"1\" class=\"dataframe\">\n",
       "  <thead>\n",
       "    <tr style=\"text-align: right;\">\n",
       "      <th></th>\n",
       "      <th></th>\n",
       "      <th></th>\n",
       "    </tr>\n",
       "    <tr>\n",
       "      <th></th>\n",
       "      <th></th>\n",
       "      <th></th>\n",
       "    </tr>\n",
       "  </thead>\n",
       "  <tbody>\n",
       "    <tr>\n",
       "      <th>Initiated</th>\n",
       "      <td>. . . . . . . . . . . . . . . . . .</td>\n",
       "      <td>23:49:30</td>\n",
       "    </tr>\n",
       "    <tr>\n",
       "      <th>Status</th>\n",
       "      <td>. . . . . . . . . . . . . . . . . .</td>\n",
       "      <td>Fitting 5 Folds</td>\n",
       "    </tr>\n",
       "    <tr>\n",
       "      <th>Estimator</th>\n",
       "      <td>. . . . . . . . . . . . . . . . . .</td>\n",
       "      <td>Light Gradient Boosting Machine</td>\n",
       "    </tr>\n",
       "  </tbody>\n",
       "</table>\n",
       "</div>"
      ],
      "text/plain": [
       "                                                \\\n",
       "                                                 \n",
       "Initiated  . . . . . . . . . . . . . . . . . .   \n",
       "Status     . . . . . . . . . . . . . . . . . .   \n",
       "Estimator  . . . . . . . . . . . . . . . . . .   \n",
       "\n",
       "                                            \n",
       "                                            \n",
       "Initiated                         23:49:30  \n",
       "Status                     Fitting 5 Folds  \n",
       "Estimator  Light Gradient Boosting Machine  "
      ]
     },
     "metadata": {},
     "output_type": "display_data"
    },
    {
     "data": {
      "text/html": [
       "<style type=\"text/css\">\n",
       "#T_01f41 th {\n",
       "  text-align: left;\n",
       "}\n",
       "#T_01f41_row0_col0, #T_01f41_row0_col1, #T_01f41_row0_col2, #T_01f41_row0_col3, #T_01f41_row0_col4, #T_01f41_row0_col5, #T_01f41_row0_col6, #T_01f41_row0_col7, #T_01f41_row0_col8, #T_01f41_row1_col0, #T_01f41_row1_col1, #T_01f41_row1_col2, #T_01f41_row1_col3, #T_01f41_row1_col4, #T_01f41_row1_col5, #T_01f41_row1_col6, #T_01f41_row1_col7, #T_01f41_row1_col8, #T_01f41_row2_col0, #T_01f41_row2_col1, #T_01f41_row2_col2, #T_01f41_row2_col3, #T_01f41_row2_col4, #T_01f41_row2_col5, #T_01f41_row2_col6, #T_01f41_row2_col7, #T_01f41_row2_col8, #T_01f41_row3_col0, #T_01f41_row3_col1, #T_01f41_row3_col2, #T_01f41_row3_col3, #T_01f41_row3_col4, #T_01f41_row3_col5, #T_01f41_row3_col6, #T_01f41_row3_col7, #T_01f41_row3_col8, #T_01f41_row4_col0, #T_01f41_row4_col1, #T_01f41_row4_col2, #T_01f41_row4_col3, #T_01f41_row4_col4, #T_01f41_row4_col5, #T_01f41_row4_col6, #T_01f41_row4_col7, #T_01f41_row4_col8, #T_01f41_row5_col0, #T_01f41_row5_col1, #T_01f41_row5_col2, #T_01f41_row5_col3, #T_01f41_row5_col4, #T_01f41_row5_col5, #T_01f41_row5_col6, #T_01f41_row5_col7, #T_01f41_row5_col8, #T_01f41_row6_col0, #T_01f41_row6_col1, #T_01f41_row6_col2, #T_01f41_row6_col3, #T_01f41_row6_col4, #T_01f41_row6_col5, #T_01f41_row6_col6, #T_01f41_row6_col7, #T_01f41_row6_col8 {\n",
       "  text-align: left;\n",
       "}\n",
       "</style>\n",
       "<table id=\"T_01f41\">\n",
       "  <thead>\n",
       "    <tr>\n",
       "      <th class=\"blank level0\" >&nbsp;</th>\n",
       "      <th id=\"T_01f41_level0_col0\" class=\"col_heading level0 col0\" >Model</th>\n",
       "      <th id=\"T_01f41_level0_col1\" class=\"col_heading level0 col1\" >Accuracy</th>\n",
       "      <th id=\"T_01f41_level0_col2\" class=\"col_heading level0 col2\" >AUC</th>\n",
       "      <th id=\"T_01f41_level0_col3\" class=\"col_heading level0 col3\" >Recall</th>\n",
       "      <th id=\"T_01f41_level0_col4\" class=\"col_heading level0 col4\" >Prec.</th>\n",
       "      <th id=\"T_01f41_level0_col5\" class=\"col_heading level0 col5\" >F1</th>\n",
       "      <th id=\"T_01f41_level0_col6\" class=\"col_heading level0 col6\" >Kappa</th>\n",
       "      <th id=\"T_01f41_level0_col7\" class=\"col_heading level0 col7\" >MCC</th>\n",
       "      <th id=\"T_01f41_level0_col8\" class=\"col_heading level0 col8\" >TT (Sec)</th>\n",
       "    </tr>\n",
       "  </thead>\n",
       "  <tbody>\n",
       "    <tr>\n",
       "      <th id=\"T_01f41_level0_row0\" class=\"row_heading level0 row0\" >rf</th>\n",
       "      <td id=\"T_01f41_row0_col0\" class=\"data row0 col0\" >Random Forest Classifier</td>\n",
       "      <td id=\"T_01f41_row0_col1\" class=\"data row0 col1\" >0.7368</td>\n",
       "      <td id=\"T_01f41_row0_col2\" class=\"data row0 col2\" >0.8172</td>\n",
       "      <td id=\"T_01f41_row0_col3\" class=\"data row0 col3\" >0.8201</td>\n",
       "      <td id=\"T_01f41_row0_col4\" class=\"data row0 col4\" >0.7043</td>\n",
       "      <td id=\"T_01f41_row0_col5\" class=\"data row0 col5\" >0.7578</td>\n",
       "      <td id=\"T_01f41_row0_col6\" class=\"data row0 col6\" >0.4733</td>\n",
       "      <td id=\"T_01f41_row0_col7\" class=\"data row0 col7\" >0.4799</td>\n",
       "      <td id=\"T_01f41_row0_col8\" class=\"data row0 col8\" >3.0000</td>\n",
       "    </tr>\n",
       "    <tr>\n",
       "      <th id=\"T_01f41_level0_row1\" class=\"row_heading level0 row1\" >et</th>\n",
       "      <td id=\"T_01f41_row1_col0\" class=\"data row1 col0\" >Extra Trees Classifier</td>\n",
       "      <td id=\"T_01f41_row1_col1\" class=\"data row1 col1\" >0.7360</td>\n",
       "      <td id=\"T_01f41_row1_col2\" class=\"data row1 col2\" >0.8160</td>\n",
       "      <td id=\"T_01f41_row1_col3\" class=\"data row1 col3\" >0.8168</td>\n",
       "      <td id=\"T_01f41_row1_col4\" class=\"data row1 col4\" >0.7044</td>\n",
       "      <td id=\"T_01f41_row1_col5\" class=\"data row1 col5\" >0.7565</td>\n",
       "      <td id=\"T_01f41_row1_col6\" class=\"data row1 col6\" >0.4716</td>\n",
       "      <td id=\"T_01f41_row1_col7\" class=\"data row1 col7\" >0.4778</td>\n",
       "      <td id=\"T_01f41_row1_col8\" class=\"data row1 col8\" >3.3100</td>\n",
       "    </tr>\n",
       "    <tr>\n",
       "      <th id=\"T_01f41_level0_row2\" class=\"row_heading level0 row2\" >dt</th>\n",
       "      <td id=\"T_01f41_row2_col0\" class=\"data row2 col0\" >Decision Tree Classifier</td>\n",
       "      <td id=\"T_01f41_row2_col1\" class=\"data row2 col1\" >0.7357</td>\n",
       "      <td id=\"T_01f41_row2_col2\" class=\"data row2 col2\" >0.8152</td>\n",
       "      <td id=\"T_01f41_row2_col3\" class=\"data row2 col3\" >0.8164</td>\n",
       "      <td id=\"T_01f41_row2_col4\" class=\"data row2 col4\" >0.7042</td>\n",
       "      <td id=\"T_01f41_row2_col5\" class=\"data row2 col5\" >0.7562</td>\n",
       "      <td id=\"T_01f41_row2_col6\" class=\"data row2 col6\" >0.4710</td>\n",
       "      <td id=\"T_01f41_row2_col7\" class=\"data row2 col7\" >0.4771</td>\n",
       "      <td id=\"T_01f41_row2_col8\" class=\"data row2 col8\" >1.3280</td>\n",
       "    </tr>\n",
       "    <tr>\n",
       "      <th id=\"T_01f41_level0_row3\" class=\"row_heading level0 row3\" >lr</th>\n",
       "      <td id=\"T_01f41_row3_col0\" class=\"data row3 col0\" >Logistic Regression</td>\n",
       "      <td id=\"T_01f41_row3_col1\" class=\"data row3 col1\" >0.7136</td>\n",
       "      <td id=\"T_01f41_row3_col2\" class=\"data row3 col2\" >0.7897</td>\n",
       "      <td id=\"T_01f41_row3_col3\" class=\"data row3 col3\" >0.8007</td>\n",
       "      <td id=\"T_01f41_row3_col4\" class=\"data row3 col4\" >0.6834</td>\n",
       "      <td id=\"T_01f41_row3_col5\" class=\"data row3 col5\" >0.7373</td>\n",
       "      <td id=\"T_01f41_row3_col6\" class=\"data row3 col6\" >0.4268</td>\n",
       "      <td id=\"T_01f41_row3_col7\" class=\"data row3 col7\" >0.4334</td>\n",
       "      <td id=\"T_01f41_row3_col8\" class=\"data row3 col8\" >1.6940</td>\n",
       "    </tr>\n",
       "    <tr>\n",
       "      <th id=\"T_01f41_level0_row4\" class=\"row_heading level0 row4\" >ridge</th>\n",
       "      <td id=\"T_01f41_row4_col0\" class=\"data row4 col0\" >Ridge Classifier</td>\n",
       "      <td id=\"T_01f41_row4_col1\" class=\"data row4 col1\" >0.7098</td>\n",
       "      <td id=\"T_01f41_row4_col2\" class=\"data row4 col2\" >0.7876</td>\n",
       "      <td id=\"T_01f41_row4_col3\" class=\"data row4 col3\" >0.8174</td>\n",
       "      <td id=\"T_01f41_row4_col4\" class=\"data row4 col4\" >0.6740</td>\n",
       "      <td id=\"T_01f41_row4_col5\" class=\"data row4 col5\" >0.7388</td>\n",
       "      <td id=\"T_01f41_row4_col6\" class=\"data row4 col6\" >0.4190</td>\n",
       "      <td id=\"T_01f41_row4_col7\" class=\"data row4 col7\" >0.4289</td>\n",
       "      <td id=\"T_01f41_row4_col8\" class=\"data row4 col8\" >1.2760</td>\n",
       "    </tr>\n",
       "    <tr>\n",
       "      <th id=\"T_01f41_level0_row5\" class=\"row_heading level0 row5\" >lda</th>\n",
       "      <td id=\"T_01f41_row5_col0\" class=\"data row5 col0\" >Linear Discriminant Analysis</td>\n",
       "      <td id=\"T_01f41_row5_col1\" class=\"data row5 col1\" >0.7098</td>\n",
       "      <td id=\"T_01f41_row5_col2\" class=\"data row5 col2\" >0.7876</td>\n",
       "      <td id=\"T_01f41_row5_col3\" class=\"data row5 col3\" >0.8174</td>\n",
       "      <td id=\"T_01f41_row5_col4\" class=\"data row5 col4\" >0.6740</td>\n",
       "      <td id=\"T_01f41_row5_col5\" class=\"data row5 col5\" >0.7388</td>\n",
       "      <td id=\"T_01f41_row5_col6\" class=\"data row5 col6\" >0.4190</td>\n",
       "      <td id=\"T_01f41_row5_col7\" class=\"data row5 col7\" >0.4289</td>\n",
       "      <td id=\"T_01f41_row5_col8\" class=\"data row5 col8\" >1.4660</td>\n",
       "    </tr>\n",
       "    <tr>\n",
       "      <th id=\"T_01f41_level0_row6\" class=\"row_heading level0 row6\" >nb</th>\n",
       "      <td id=\"T_01f41_row6_col0\" class=\"data row6 col0\" >Naive Bayes</td>\n",
       "      <td id=\"T_01f41_row6_col1\" class=\"data row6 col1\" >0.6780</td>\n",
       "      <td id=\"T_01f41_row6_col2\" class=\"data row6 col2\" >0.7376</td>\n",
       "      <td id=\"T_01f41_row6_col3\" class=\"data row6 col3\" >0.8509</td>\n",
       "      <td id=\"T_01f41_row6_col4\" class=\"data row6 col4\" >0.6335</td>\n",
       "      <td id=\"T_01f41_row6_col5\" class=\"data row6 col5\" >0.7263</td>\n",
       "      <td id=\"T_01f41_row6_col6\" class=\"data row6 col6\" >0.3551</td>\n",
       "      <td id=\"T_01f41_row6_col7\" class=\"data row6 col7\" >0.3784</td>\n",
       "      <td id=\"T_01f41_row6_col8\" class=\"data row6 col8\" >1.5580</td>\n",
       "    </tr>\n",
       "  </tbody>\n",
       "</table>\n"
      ],
      "text/plain": [
       "<pandas.io.formats.style.Styler at 0x7f3a7ad45e40>"
      ]
     },
     "metadata": {},
     "output_type": "display_data"
    },
    {
     "data": {
      "application/vnd.jupyter.widget-view+json": {
       "model_id": "e80754941c074eb7b1f833daeef215a8",
       "version_major": 2,
       "version_minor": 0
      },
      "text/plain": [
       "Processing:   0%|          | 0/37 [00:00<?, ?it/s]"
      ]
     },
     "metadata": {},
     "output_type": "display_data"
    }
   ],
   "source": [
    "from pycaret.classification import *\n",
    "\n",
    "# Setup with PyCaret 3.3.2 syntax\n",
    "exp = setup(\n",
    "    data=data,\n",
    "    target = 'app_complete_flag',  \n",
    "    fold_shuffle=True, \n",
    "    session_id = 42,\n",
    "    normalize = True, \n",
    "    transformation = True, \n",
    "    remove_multicollinearity = True, \n",
    "    multicollinearity_threshold = 0.95,\n",
    "    n_jobs=-1,\n",
    "    use_gpu=False,\n",
    "    log_experiment=True,\n",
    "    # experiment_name='Lead_Scoring_Model_Experimentation',\n",
    "    log_plots=True,\n",
    "    log_data=True,\n",
    "    verbose=True,\n",
    "    log_profile=False\n",
    ")\n",
    "\n",
    "# Compare models\n",
    "best_model = compare_models(sort='AUC', fold = 5, exclude=['gbc','knn','qda', 'dummy', 'svm', 'ada'])"
   ]
  },
  {
   "cell_type": "markdown",
   "metadata": {
    "tags": []
   },
   "source": [
    "### 4 : Model Experimentation with pycaret"
   ]
  },
  {
   "cell_type": "code",
   "execution_count": null,
   "metadata": {},
   "outputs": [],
   "source": [
    "# create a experimentation with pycaret and exclude ['gbc','knn','qda', 'dummy', 'svm', 'ada']"
   ]
  },
  {
   "cell_type": "code",
   "execution_count": null,
   "metadata": {},
   "outputs": [],
   "source": [
    "# create a model which gives the highest accuracy"
   ]
  },
  {
   "cell_type": "code",
   "execution_count": null,
   "metadata": {},
   "outputs": [],
   "source": [
    "# create feature importance plot"
   ]
  },
  {
   "cell_type": "markdown",
   "metadata": {
    "tags": []
   },
   "source": [
    "### 5 : Model Experimentation after dropping features"
   ]
  },
  {
   "cell_type": "markdown",
   "metadata": {},
   "source": [
    "From the above feature tests we can claerly see that some of the features are not significant. We will now drop all the insignificant features and select only the significant ones.\n",
    "The list of the significant features is \n",
    "['total_leads_droppped', 'city_tier', 'referred_lead', 'app_complete_flag', 'first_platform_c', 'first_utm_medium_c', 'first_utm_source_c'].\n",
    "So now you will train your model with onlly these features.\n",
    "\n",
    "Also note that in our previous experiments we saw that tree based models are our top performers. In case of tree based models we do not require transformationss normalization, scaling etc. So make sure that you use setup pycaret in the proper way. i.e, make sure that you use normalize = False and transformation = False."
   ]
  },
  {
   "cell_type": "code",
   "execution_count": null,
   "metadata": {},
   "outputs": [],
   "source": [
    "# \n",
    "# ['total_leads_droppped', 'city_tier', 'referred_lead', 'app_complete_flag', 'first_platform_c', 'first_utm_medium_c', 'first_utm_source_c']\n",
    "#\n",
    "# Train the model using the features listed above. Since we are using tree models we do not require any transformaions \n",
    "# such as normalization, scaling etc.So make sure that you use setup pycaret in the proper way. i.e, make sure that you use \n",
    "# normalize = False and transformation = False."
   ]
  },
  {
   "cell_type": "code",
   "execution_count": null,
   "metadata": {
    "tags": []
   },
   "outputs": [],
   "source": [
    "# create a experimentation with pycaret and exclude ['gbc','knn','qda', 'dummy', 'svm', 'ada']. "
   ]
  },
  {
   "cell_type": "code",
   "execution_count": null,
   "metadata": {},
   "outputs": [],
   "source": [
    "# You should get lightgbm as the best performing model. So now we will train a lightGBM model manually using pycaret"
   ]
  },
  {
   "cell_type": "code",
   "execution_count": null,
   "metadata": {
    "tags": []
   },
   "outputs": [],
   "source": [
    "# Tune the hyper parameters of the lightgbm model using optuna on 10 folds and optimise AUC as that was our system metric, \n",
    "# hence we will optimise AUC"
   ]
  },
  {
   "cell_type": "code",
   "execution_count": null,
   "metadata": {},
   "outputs": [],
   "source": [
    "# Print the final models configuration so that we can use it in the model retraining pipeline "
   ]
  }
 ],
 "metadata": {
  "accelerator": "GPU",
  "colab": {
   "collapsed_sections": [],
   "name": "Model-AfterFeature.ipynb",
   "provenance": []
  },
  "kernelspec": {
   "display_name": "Python 3",
   "language": "python",
   "name": "python3"
  },
  "language_info": {
   "codemirror_mode": {
    "name": "ipython",
    "version": 3
   },
   "file_extension": ".py",
   "mimetype": "text/x-python",
   "name": "python",
   "nbconvert_exporter": "python",
   "pygments_lexer": "ipython3",
   "version": "3.10.16"
  },
  "vscode": {
   "interpreter": {
    "hash": "7cd94b908b2292e9d2da2e5e75d12d6a294435c608eaff704093f5bae14b723d"
   }
  },
  "widgets": {
   "application/vnd.jupyter.widget-state+json": {
    "144f839f29354f668dda71aa605216ce": {
     "model_module": "@jupyter-widgets/controls",
     "model_module_version": "1.5.0",
     "model_name": "IntProgressModel",
     "state": {
      "_dom_classes": [],
      "_model_module": "@jupyter-widgets/controls",
      "_model_module_version": "1.5.0",
      "_model_name": "IntProgressModel",
      "_view_count": null,
      "_view_module": "@jupyter-widgets/controls",
      "_view_module_version": "1.5.0",
      "_view_name": "ProgressView",
      "bar_style": "",
      "description": "Processing: ",
      "description_tooltip": null,
      "layout": "IPY_MODEL_383709fd8fda47ceadbf243d18428cf8",
      "max": 74,
      "min": 0,
      "orientation": "horizontal",
      "style": "IPY_MODEL_898da34f06fa4fd3be6fc028d246a379",
      "value": 74
     }
    },
    "383709fd8fda47ceadbf243d18428cf8": {
     "model_module": "@jupyter-widgets/base",
     "model_module_version": "1.2.0",
     "model_name": "LayoutModel",
     "state": {
      "_model_module": "@jupyter-widgets/base",
      "_model_module_version": "1.2.0",
      "_model_name": "LayoutModel",
      "_view_count": null,
      "_view_module": "@jupyter-widgets/base",
      "_view_module_version": "1.2.0",
      "_view_name": "LayoutView",
      "align_content": null,
      "align_items": null,
      "align_self": null,
      "border": null,
      "bottom": null,
      "display": null,
      "flex": null,
      "flex_flow": null,
      "grid_area": null,
      "grid_auto_columns": null,
      "grid_auto_flow": null,
      "grid_auto_rows": null,
      "grid_column": null,
      "grid_gap": null,
      "grid_row": null,
      "grid_template_areas": null,
      "grid_template_columns": null,
      "grid_template_rows": null,
      "height": null,
      "justify_content": null,
      "justify_items": null,
      "left": null,
      "margin": null,
      "max_height": null,
      "max_width": null,
      "min_height": null,
      "min_width": null,
      "object_fit": null,
      "object_position": null,
      "order": null,
      "overflow": null,
      "overflow_x": null,
      "overflow_y": null,
      "padding": null,
      "right": null,
      "top": null,
      "visibility": null,
      "width": null
     }
    },
    "8239e3c9a1714d16a804cdf4239ec7f3": {
     "model_module": "@jupyter-widgets/controls",
     "model_module_version": "1.5.0",
     "model_name": "ProgressStyleModel",
     "state": {
      "_model_module": "@jupyter-widgets/controls",
      "_model_module_version": "1.5.0",
      "_model_name": "ProgressStyleModel",
      "_view_count": null,
      "_view_module": "@jupyter-widgets/base",
      "_view_module_version": "1.2.0",
      "_view_name": "StyleView",
      "bar_color": null,
      "description_width": ""
     }
    },
    "898da34f06fa4fd3be6fc028d246a379": {
     "model_module": "@jupyter-widgets/controls",
     "model_module_version": "1.5.0",
     "model_name": "ProgressStyleModel",
     "state": {
      "_model_module": "@jupyter-widgets/controls",
      "_model_module_version": "1.5.0",
      "_model_name": "ProgressStyleModel",
      "_view_count": null,
      "_view_module": "@jupyter-widgets/base",
      "_view_module_version": "1.2.0",
      "_view_name": "StyleView",
      "bar_color": null,
      "description_width": ""
     }
    },
    "94fbf501ef6e499387332ad398f2d3ff": {
     "model_module": "@jupyter-widgets/base",
     "model_module_version": "1.2.0",
     "model_name": "LayoutModel",
     "state": {
      "_model_module": "@jupyter-widgets/base",
      "_model_module_version": "1.2.0",
      "_model_name": "LayoutModel",
      "_view_count": null,
      "_view_module": "@jupyter-widgets/base",
      "_view_module_version": "1.2.0",
      "_view_name": "LayoutView",
      "align_content": null,
      "align_items": null,
      "align_self": null,
      "border": null,
      "bottom": null,
      "display": null,
      "flex": null,
      "flex_flow": null,
      "grid_area": null,
      "grid_auto_columns": null,
      "grid_auto_flow": null,
      "grid_auto_rows": null,
      "grid_column": null,
      "grid_gap": null,
      "grid_row": null,
      "grid_template_areas": null,
      "grid_template_columns": null,
      "grid_template_rows": null,
      "height": null,
      "justify_content": null,
      "justify_items": null,
      "left": null,
      "margin": null,
      "max_height": null,
      "max_width": null,
      "min_height": null,
      "min_width": null,
      "object_fit": null,
      "object_position": null,
      "order": null,
      "overflow": null,
      "overflow_x": null,
      "overflow_y": null,
      "padding": null,
      "right": null,
      "top": null,
      "visibility": null,
      "width": null
     }
    },
    "9e278bc3113d41398166df961701e9fb": {
     "model_module": "@jupyter-widgets/controls",
     "model_module_version": "1.5.0",
     "model_name": "IntProgressModel",
     "state": {
      "_dom_classes": [],
      "_model_module": "@jupyter-widgets/controls",
      "_model_module_version": "1.5.0",
      "_model_name": "IntProgressModel",
      "_view_count": null,
      "_view_module": "@jupyter-widgets/controls",
      "_view_module_version": "1.5.0",
      "_view_name": "ProgressView",
      "bar_style": "",
      "description": "Processing: ",
      "description_tooltip": null,
      "layout": "IPY_MODEL_a048df655c51475fb7369eb70702a575",
      "max": 4,
      "min": 0,
      "orientation": "horizontal",
      "style": "IPY_MODEL_e52bcc4a1c3046bfb9e88d9e2d2218dd",
      "value": 4
     }
    },
    "a048df655c51475fb7369eb70702a575": {
     "model_module": "@jupyter-widgets/base",
     "model_module_version": "1.2.0",
     "model_name": "LayoutModel",
     "state": {
      "_model_module": "@jupyter-widgets/base",
      "_model_module_version": "1.2.0",
      "_model_name": "LayoutModel",
      "_view_count": null,
      "_view_module": "@jupyter-widgets/base",
      "_view_module_version": "1.2.0",
      "_view_name": "LayoutView",
      "align_content": null,
      "align_items": null,
      "align_self": null,
      "border": null,
      "bottom": null,
      "display": null,
      "flex": null,
      "flex_flow": null,
      "grid_area": null,
      "grid_auto_columns": null,
      "grid_auto_flow": null,
      "grid_auto_rows": null,
      "grid_column": null,
      "grid_gap": null,
      "grid_row": null,
      "grid_template_areas": null,
      "grid_template_columns": null,
      "grid_template_rows": null,
      "height": null,
      "justify_content": null,
      "justify_items": null,
      "left": null,
      "margin": null,
      "max_height": null,
      "max_width": null,
      "min_height": null,
      "min_width": null,
      "object_fit": null,
      "object_position": null,
      "order": null,
      "overflow": null,
      "overflow_x": null,
      "overflow_y": null,
      "padding": null,
      "right": null,
      "top": null,
      "visibility": null,
      "width": null
     }
    },
    "a18be2b61ba5486e9c132f9e5aa0e09e": {
     "model_module": "@jupyter-widgets/controls",
     "model_module_version": "1.5.0",
     "model_name": "IntProgressModel",
     "state": {
      "_dom_classes": [],
      "_model_module": "@jupyter-widgets/controls",
      "_model_module_version": "1.5.0",
      "_model_name": "IntProgressModel",
      "_view_count": null,
      "_view_module": "@jupyter-widgets/controls",
      "_view_module_version": "1.5.0",
      "_view_name": "ProgressView",
      "bar_style": "",
      "description": "Processing: ",
      "description_tooltip": null,
      "layout": "IPY_MODEL_94fbf501ef6e499387332ad398f2d3ff",
      "max": 3,
      "min": 0,
      "orientation": "horizontal",
      "style": "IPY_MODEL_8239e3c9a1714d16a804cdf4239ec7f3",
      "value": 3
     }
    },
    "e52bcc4a1c3046bfb9e88d9e2d2218dd": {
     "model_module": "@jupyter-widgets/controls",
     "model_module_version": "1.5.0",
     "model_name": "ProgressStyleModel",
     "state": {
      "_model_module": "@jupyter-widgets/controls",
      "_model_module_version": "1.5.0",
      "_model_name": "ProgressStyleModel",
      "_view_count": null,
      "_view_module": "@jupyter-widgets/base",
      "_view_module_version": "1.2.0",
      "_view_name": "StyleView",
      "bar_color": null,
      "description_width": ""
     }
    }
   }
  }
 },
 "nbformat": 4,
 "nbformat_minor": 4
}
